{
 "cells": [
  {
   "cell_type": "code",
   "execution_count": 1,
   "metadata": {},
   "outputs": [],
   "source": [
    "import matplotlib.pyplot as plt\n",
    "import numpy as np\n",
    "import cv2\n",
    "from ipywidgets import interact,fixed,interactive"
   ]
  },
  {
   "cell_type": "code",
   "execution_count": 3,
   "metadata": {},
   "outputs": [],
   "source": [
    "def ucitavanje_slika(putanja1,putanja2):\n",
    "    \n",
    "    global ref_slika,orig_slika,ref_r,ref_g,ref_b,orig_r,orig_g,orig_b\n",
    "    # Učitavam slike na kojima ću vršiti obradu\n",
    "    # Referentna slika je slika s koje ćemo uzimati uzorke palete boja\n",
    "    # Originalna slika je slika koju ćemo menjati\n",
    "\n",
    "    ref_slika = cv2.imread(putanja1)\n",
    "    orig_slika = cv2.imread(putanja2)\n",
    "\n",
    "    # Konvertovanje iz BGR u RGB\n",
    "\n",
    "    ref_slika = cv2.cvtColor(ref_slika,cv2.COLOR_BGR2RGB)\n",
    "    orig_slika = cv2.cvtColor(orig_slika,cv2.COLOR_BGR2RGB)\n",
    "\n",
    "\n",
    "    # Izdvajanje crvene/zelene/plave boje referentne slike u odvojenu matricu\n",
    "\n",
    "    ref_r = ref_slika[:,:,0] # ref_slika je trodimenzionalna matrica, te u ref_r kopiramo za svaki piksel vrednost RED kanala iz ref slike(ref_r je sada dvodim. matrica)\n",
    "    ref_g = ref_slika[:,:,1]\n",
    "    ref_b = ref_slika[:,:,2]\n",
    "\n",
    "\n",
    "    # Izdvajanje crvene/zelene/plave boje originalne slike u odvojenu matricu\n",
    "\n",
    "    orig_r = orig_slika[:,:,0]\n",
    "    orig_g = orig_slika[:,:,1]\n",
    "    orig_b = orig_slika[:,:,2]\n",
    "\n",
    "\n",
    "    # Prikazujemo rezultate deljenja na kanale\n",
    "\n",
    "    fig, ax = plt.subplots(2,4,figsize=(32,10))\n",
    "\n",
    "    ax[0,0].imshow(ref_slika)\n",
    "    ax[0,0].axis('off')\n",
    "    ax[0,1].imshow(ref_r,cmap='jet')\n",
    "    ax[0,1].axis('off')\n",
    "    ax[0,2].imshow(ref_g,cmap='jet')\n",
    "    ax[0,2].axis('off')\n",
    "    ax[0,3].imshow(ref_b,cmap='jet')\n",
    "    ax[0,3].axis('off')\n",
    "\n",
    "    ax[1,0].imshow(orig_slika)\n",
    "    ax[1,0].axis('off')\n",
    "    ax[1,1].imshow(orig_r,cmap='jet')\n",
    "    ax[1,1].axis('off')\n",
    "    ax[1,2].imshow(orig_g,cmap='jet')\n",
    "    ax[1,2].axis('off')\n",
    "    ax[1,3].imshow(orig_b,cmap='jet')\n",
    "    ax[1,3].axis('off')\n",
    "\n",
    "    ax[0,0].set_title('Slika u boji (RGB)')\n",
    "    ax[0,1].set_title('Slika u jednoj boji RED')\n",
    "    ax[0,2].set_title('Slika u jednoj boji GREEN')\n",
    "    ax[0,3].set_title('Slika u jednoj boji BLUE');"
   ]
  },
  {
   "cell_type": "code",
   "execution_count": 4,
   "metadata": {},
   "outputs": [],
   "source": [
    "def histogrami():\n",
    "    \n",
    "    # kreiram 3 prazna niza duzine 256 za pamcenje normalizovanog histograma za 3 kanala referentne slike\n",
    "    global hist_ref_r,hist_ref_g,hist_ref_b,hist_orig_r,hist_orig_b,hist_orig_g,origrows,origcols,refrows,refcols\n",
    "    hist_ref_r = np.zeros(256)\n",
    "    hist_ref_g = np.zeros(256)\n",
    "    hist_ref_b = np.zeros(256)\n",
    "\n",
    "    # kreiram i 3 prazna niza duzine 256 za pamćenje normalizovanog histograma za 3 kanala originalne slike\n",
    "\n",
    "    hist_orig_r = np.zeros(256)\n",
    "    hist_orig_g = np.zeros(256)\n",
    "    hist_orig_b = np.zeros(256)\n",
    "\n",
    "    # uzimam dimenzije referentne slike - broj piksela po širini i dužini\n",
    "\n",
    "    refrows = ref_slika.shape[0]\n",
    "    refcols = ref_slika.shape[1]\n",
    "\n",
    "    # uzimam i dimenzije originalne slike\n",
    "\n",
    "    origrows = orig_slika.shape[0]\n",
    "    origcols = orig_slika.shape[1]\n",
    "\n",
    "\n",
    "    # for petlja prolazi kroz svaki piksel po redovima i kolonama referentne slike\n",
    "\n",
    "    for i in range(refrows):\n",
    "        for j in range(refcols):\n",
    "            hist_ref_r[ref_r[i][j]]+=1  # vrednost piksela u datom redu i koloni koristimo kao indeks\n",
    "                                        # člana niza (histograma) na kojem povećavamo vrednost za 1 (broj pojavljivanja te vred.)\n",
    "                                        # za svaku vrednost piksela iz matrice povećavamo broj ponavljanja te vrednosti na histogramu (u nizu na odgovarajućem indeksu)\n",
    "\n",
    "    for i in range(refrows):   # ponavljamo postupak za kanal zelene boje\n",
    "        for j in range(refcols):\n",
    "            hist_ref_g[ref_g[i][j]]+=1   \n",
    "                                        \n",
    "    for i in range(refrows):   # ponavljamo postupak za kanal zelene boje\n",
    "        for j in range(refcols):\n",
    "            hist_ref_b[ref_b[i][j]]+=1\n",
    "                                        \n",
    "\n",
    "    # ponavljamo postupak za originalnu sliku\n",
    "\n",
    "    for i in range(origrows):\n",
    "        for j in range(origcols):\n",
    "            hist_orig_r[orig_r[i][j]]+=1 # vrednost piksela u datom redu i koloni koristimo kao indeks \n",
    "                                        # člana niza (histograma) na kojem povećavamo vrednost za 1 (broj pojavljivanja te vred.)\n",
    "                                        # za svaku vrednost piksela iz matrice povećavamo broj ponavljanja te vrednosti na histogramu (u nizu na odgovarajućem indeksu)\n",
    "\n",
    "    for i in range(origrows):   # ponavljamo postupak za kanal zelene boje\n",
    "        for j in range(origcols):\n",
    "            hist_orig_g[orig_g[i][j]]+=1   \n",
    "                                        \n",
    "    for i in range(origrows):   # ponavljamo postupak za kanal zelene boje\n",
    "        for j in range(origcols):\n",
    "            hist_orig_b[orig_b[i][j]]+=1\n"
   ]
  },
  {
   "cell_type": "code",
   "execution_count": 5,
   "metadata": {},
   "outputs": [],
   "source": [
    "def kumulativni_histogrami():\n",
    "    \n",
    "    global cdf_ref_r,cdf_ref_g,cdf_ref_b,cdf_orig_r,cdf_orig_g,cdf_orig_b\n",
    "    # kreiram 3 prazna niza duzine 256 za pamcenje normalizovanog histograma za 3 kanala originalne slike\n",
    "\n",
    "    cdf_ref_r = np.zeros(256)\n",
    "    cdf_ref_g = np.zeros(256)\n",
    "    cdf_ref_b = np.zeros(256)\n",
    "\n",
    "    # ponavljam postupak za originalnu sliku\n",
    "\n",
    "    cdf_orig_r = np.zeros(256)\n",
    "    cdf_orig_g = np.zeros(256)\n",
    "    cdf_orig_b = np.zeros(256)\n",
    "\n",
    "\n",
    "    # for petlja koja prolazi kroz cele dužine nizova histogram za sva 3 kanala referentne slike\n",
    "\n",
    "    cdf_ref_r[0]=hist_ref_r[0]\n",
    "    for i in range(1,256):\n",
    "        cdf_ref_r[i]=cdf_ref_r[i-1]+hist_ref_r[i]\n",
    "\n",
    "    cdf_ref_g[0]=hist_ref_g[0]\n",
    "    for i in range(1,256):\n",
    "        cdf_ref_g[i]=cdf_ref_g[i-1]+hist_ref_g[i]\n",
    "\n",
    "    cdf_ref_b[0]=hist_ref_b[0]\n",
    "    for i in range(1,256):\n",
    "        cdf_ref_b[i]=cdf_ref_b[i-1]+hist_ref_b[i]\n",
    "\n",
    "    # ponavljamo postupak za originalnu sliku\n",
    "\n",
    "    cdf_orig_r[0]=hist_orig_r[0]\n",
    "    for i in range(1,256):\n",
    "        cdf_orig_r[i]=cdf_orig_r[i-1]+hist_orig_r[i]\n",
    "\n",
    "    cdf_orig_g[0]=hist_orig_g[0]\n",
    "    for i in range(1,256):\n",
    "        cdf_orig_g[i]=cdf_orig_g[i-1]+hist_orig_g[i]\n",
    "\n",
    "    cdf_orig_b[0]=hist_orig_b[0]\n",
    "    for i in range(1,256):\n",
    "        cdf_orig_b[i]=cdf_orig_b[i-1]+hist_orig_b[i]"
   ]
  },
  {
   "cell_type": "code",
   "execution_count": 6,
   "metadata": {},
   "outputs": [],
   "source": [
    "def prikaz_hist():\n",
    "\n",
    "    global bins\n",
    "    # PRIKAZ\n",
    "\n",
    "    # pravim niz duzine 256 s vrednostima od 0 do 255, za granice binova koje nam trebaju za grupisanje vrednosti pri prikazu\n",
    "\n",
    "    bins = np.arange(256)\n",
    "\n",
    "    # plotovanje\n",
    "\n",
    "    fig,ax1= plt.subplots(nrows=3,ncols=2,figsize=(15,15))\n",
    "\n",
    "    ax2 = np.array([[ax.twinx() for ax in red] for red in ax1])\n",
    "\n",
    "    ax1[0,0].bar(bins,hist_ref_r,color='b')\n",
    "    ax1[1,0].bar(bins,hist_ref_g,color='b')\n",
    "    ax1[2,0].bar(bins,hist_ref_b,color='b')\n",
    "    ax1[0,1].bar(bins,hist_orig_r,color='b')\n",
    "    ax1[1,1].bar(bins,hist_orig_g,color='b')\n",
    "    ax1[2,1].bar(bins,hist_orig_b,color='b')\n",
    "    ax2[0,0].plot(bins, cdf_ref_r, color='r')\n",
    "    ax2[1,0].plot(bins, cdf_ref_g, color='r')\n",
    "    ax2[2,0].plot(bins, cdf_ref_b, color='r')\n",
    "    ax2[0,1].plot(bins, cdf_orig_r, color='r')\n",
    "    ax2[1,1].plot(bins, cdf_orig_g, color='r')\n",
    "    ax2[2,1].plot(bins, cdf_orig_b, color='r')\n",
    "\n",
    "    ax1[0,0].set_title('Referentna slika')\n",
    "    ax1[0,1].set_title('Originalna slika')\n",
    "    ax1[0,0].set_ylabel('R')\n",
    "    ax1[1,0].set_ylabel('G')\n",
    "    ax1[2,0].set_ylabel('B')\n",
    "\n"
   ]
  },
  {
   "cell_type": "code",
   "execution_count": 7,
   "metadata": {},
   "outputs": [],
   "source": [
    "def normalizacija():\n",
    "\n",
    "    # Računamo dimenzije slika\n",
    "    \n",
    "    ref_dim = ref_slika.shape[0]*ref_slika.shape[1]\n",
    "\n",
    "    orig_dim = orig_slika.shape[0]*orig_slika.shape[1]\n",
    "\n",
    "\n",
    "    # for petlja prolazi kroz sve elemente nizova i svaki podeli s dimenzijama odgovarajuće slike\n",
    "\n",
    "    for i in range(256):\n",
    "        cdf_ref_r[i]=cdf_ref_r[i]/ref_dim\n",
    "\n",
    "    for i in range(256):\n",
    "        cdf_ref_g[i]=cdf_ref_g[i]/ref_dim\n",
    "\n",
    "    for i in range(256):\n",
    "        cdf_ref_b[i]=cdf_ref_b[i]/ref_dim\n",
    "\n",
    "    # ponavljamo postupak za originalnu sliku\n",
    "\n",
    "    for i in range(256):\n",
    "        cdf_orig_r[i]=cdf_orig_r[i]/orig_dim\n",
    "\n",
    "    for i in range(256):\n",
    "        cdf_orig_g[i]=cdf_orig_g[i]/orig_dim\n",
    "\n",
    "    for i in range(256):\n",
    "        cdf_orig_b[i]=cdf_orig_b[i]/orig_dim\n",
    "\n",
    "\n",
    "    fig, ax = plt.subplots(3,2,figsize=(15,10))\n",
    "\n",
    "    ax[0,0].plot(cdf_ref_r,color='r')\n",
    "    ax[1,0].plot(cdf_ref_g,color='r')\n",
    "    ax[2,0].plot(cdf_ref_b,color='r')\n",
    "    ax[0,1].plot(cdf_orig_r,color='r')\n",
    "    ax[1,1].plot(cdf_orig_g,color='r')\n",
    "    ax[2,1].plot(cdf_orig_b,color='r')\n",
    "\n",
    "    ax[0,0].set_title('Referentna slika')\n",
    "    ax[0,1].set_title('Originalna slika')\n",
    "    ax[0,0].set_ylabel('R')\n",
    "    ax[1,0].set_ylabel('G')\n",
    "    ax[2,0].set_ylabel('B');"
   ]
  },
  {
   "cell_type": "code",
   "execution_count": 8,
   "metadata": {},
   "outputs": [],
   "source": [
    "def specifikacija():\n",
    "    global ciljna_slika\n",
    "    M_r = []\n",
    "    M_g = []\n",
    "    M_b = []\n",
    "\n",
    "    for i in range(256):\n",
    "        t = cdf_ref_r[i]\n",
    "        najblizi_index = np.abs(cdf_orig_r - t).argmin()\n",
    "        M_r.append(najblizi_index)\n",
    "\n",
    "    for i in range(256):\n",
    "        t = cdf_ref_r[i]\n",
    "        najblizi_index = np.abs(cdf_orig_g - t).argmin()\n",
    "        M_g.append(najblizi_index)\n",
    "\n",
    "    for i in range(256):\n",
    "        t = cdf_ref_r[i]\n",
    "        najblizi_index = np.abs(cdf_orig_b - t).argmin()\n",
    "        M_b.append(najblizi_index)\n",
    "    \n",
    "    cilj_r = orig_r.copy()\n",
    "    cilj_g = orig_g.copy()\n",
    "    cilj_b = orig_b.copy()\n",
    "    ciljna_slika=orig_slika.copy()\n",
    "\n",
    "    for i in range(origrows):\n",
    "        for j in range(origcols):\n",
    "            cilj_r[i][j]=M_r[cilj_r[i][j]]\n",
    "\n",
    "\n",
    "    for i in range(origrows):\n",
    "        for j in range(origcols):\n",
    "            cilj_g[i][j]=M_g[cilj_g[i][j]]\n",
    "\n",
    "            \n",
    "    for i in range(origrows):\n",
    "        for j in range(origcols):\n",
    "            cilj_b[i][j]=M_b[cilj_b[i][j]]\n",
    "\n",
    "    cilj_r[215][141]\n",
    "    for i in range(origrows):\n",
    "        for j in range(origcols):\n",
    "            ciljna_slika[i][j][0]=cilj_r[i][j]\n",
    "            ciljna_slika[i][j][1]=cilj_g[i][j]\n",
    "            ciljna_slika[i][j][2]=cilj_b[i][j]"
   ]
  },
  {
   "cell_type": "code",
   "execution_count": 9,
   "metadata": {},
   "outputs": [],
   "source": [
    "def prikaz_rezultata():\n",
    "    fig, ax = plt.subplots(1,3,figsize=(22,8))\n",
    "    ax[0].imshow(ref_slika)\n",
    "    ax[1].imshow(orig_slika)\n",
    "    ax[2].imshow(ciljna_slika)\n",
    "    ax[0].axis('off')\n",
    "    ax[1].axis('off')\n",
    "    ax[2].axis('off')\n",
    "    ax[0].set_title('Referentna slika')\n",
    "    ax[1].set_title('Originalna slika')\n",
    "    ax[2].set_title('Izmenjena slika');"
   ]
  },
  {
   "cell_type": "code",
   "execution_count": 17,
   "metadata": {},
   "outputs": [
    {
     "data": {
      "application/vnd.jupyter.widget-view+json": {
       "model_id": "b21007209a604b1b893b45e9d078f838",
       "version_major": 2,
       "version_minor": 0
      },
      "text/plain": [
       "interactive(children=(Output(),), _dom_classes=('widget-interact',))"
      ]
     },
     "execution_count": 17,
     "metadata": {},
     "output_type": "execute_result"
    }
   ],
   "source": [
    "putanja1='Slike/dolina.png'\n",
    "putanja2='Slike/palme.png'\n",
    "interactive(ucitavanje_slika, putanja1=fixed(putanja1),putanja2=fixed(putanja2))"
   ]
  },
  {
   "cell_type": "code",
   "execution_count": 18,
   "metadata": {},
   "outputs": [
    {
     "data": {
      "application/vnd.jupyter.widget-view+json": {
       "model_id": "cfb3c17581d74c0991f0caaebb0c634a",
       "version_major": 2,
       "version_minor": 0
      },
      "text/plain": [
       "interactive(children=(Output(),), _dom_classes=('widget-interact',))"
      ]
     },
     "execution_count": 18,
     "metadata": {},
     "output_type": "execute_result"
    }
   ],
   "source": [
    "interactive(histogrami)"
   ]
  },
  {
   "cell_type": "code",
   "execution_count": 19,
   "metadata": {},
   "outputs": [
    {
     "data": {
      "application/vnd.jupyter.widget-view+json": {
       "model_id": "fa394837e304429e8e95521354f50f32",
       "version_major": 2,
       "version_minor": 0
      },
      "text/plain": [
       "interactive(children=(Output(),), _dom_classes=('widget-interact',))"
      ]
     },
     "execution_count": 19,
     "metadata": {},
     "output_type": "execute_result"
    }
   ],
   "source": [
    "interactive(kumulativni_histogrami)"
   ]
  },
  {
   "cell_type": "code",
   "execution_count": 20,
   "metadata": {},
   "outputs": [
    {
     "data": {
      "application/vnd.jupyter.widget-view+json": {
       "model_id": "19bb74ab9a7d4339ad39bea7c2dc24ae",
       "version_major": 2,
       "version_minor": 0
      },
      "text/plain": [
       "interactive(children=(Output(),), _dom_classes=('widget-interact',))"
      ]
     },
     "execution_count": 20,
     "metadata": {},
     "output_type": "execute_result"
    }
   ],
   "source": [
    "interactive(prikaz_hist)"
   ]
  },
  {
   "cell_type": "code",
   "execution_count": 21,
   "metadata": {},
   "outputs": [
    {
     "data": {
      "application/vnd.jupyter.widget-view+json": {
       "model_id": "af68ee7386774f0e8f86183a307b53a9",
       "version_major": 2,
       "version_minor": 0
      },
      "text/plain": [
       "interactive(children=(Output(),), _dom_classes=('widget-interact',))"
      ]
     },
     "execution_count": 21,
     "metadata": {},
     "output_type": "execute_result"
    }
   ],
   "source": [
    "interactive(normalizacija)"
   ]
  },
  {
   "cell_type": "code",
   "execution_count": 22,
   "metadata": {},
   "outputs": [
    {
     "data": {
      "application/vnd.jupyter.widget-view+json": {
       "model_id": "dc3c61eec3c54e1e80d5d6d07bc7b1fc",
       "version_major": 2,
       "version_minor": 0
      },
      "text/plain": [
       "interactive(children=(Output(),), _dom_classes=('widget-interact',))"
      ]
     },
     "execution_count": 22,
     "metadata": {},
     "output_type": "execute_result"
    }
   ],
   "source": [
    "interactive(specifikacija)\n"
   ]
  },
  {
   "cell_type": "code",
   "execution_count": 23,
   "metadata": {},
   "outputs": [
    {
     "data": {
      "application/vnd.jupyter.widget-view+json": {
       "model_id": "d8a34a78da0b4a71aae3af78abc5fa49",
       "version_major": 2,
       "version_minor": 0
      },
      "text/plain": [
       "interactive(children=(Output(),), _dom_classes=('widget-interact',))"
      ]
     },
     "execution_count": 23,
     "metadata": {},
     "output_type": "execute_result"
    }
   ],
   "source": [
    "interactive(prikaz_rezultata)"
   ]
  }
 ],
 "metadata": {
  "kernelspec": {
   "display_name": "Python 3",
   "language": "python",
   "name": "python3"
  },
  "language_info": {
   "codemirror_mode": {
    "name": "ipython",
    "version": 3
   },
   "file_extension": ".py",
   "mimetype": "text/x-python",
   "name": "python",
   "nbconvert_exporter": "python",
   "pygments_lexer": "ipython3",
   "version": "3.12.2"
  }
 },
 "nbformat": 4,
 "nbformat_minor": 2
}
