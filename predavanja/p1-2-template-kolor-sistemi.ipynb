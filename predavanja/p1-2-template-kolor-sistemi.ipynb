{
 "cells": [
  {
   "cell_type": "code",
   "execution_count": 8,
   "metadata": {},
   "outputs": [],
   "source": [
    "from __future__ import print_function\n",
    "%matplotlib inline\n",
    "from pylab import *\n",
    "\n",
    "from ipywidgets import interact, interactive, fixed, interact_manual\n",
    "import ipywidgets as widgets\n",
    "\n",
    "import skimage\n",
    "from skimage import *\n",
    "from skimage.color import *\n",
    "from skimage import io\n",
    "import numpy as np"
   ]
  },
  {
   "cell_type": "markdown",
   "metadata": {},
   "source": [
    "# RGB"
   ]
  },
  {
   "cell_type": "code",
   "execution_count": 1,
   "metadata": {},
   "outputs": [],
   "source": [
    "# Ucitati sliku 'parrots.jpg'"
   ]
  },
  {
   "cell_type": "code",
   "execution_count": 2,
   "metadata": {},
   "outputs": [],
   "source": [
    "# Prikazati intenzitete svakog sloja zasebno"
   ]
  },
  {
   "cell_type": "markdown",
   "metadata": {},
   "source": [
    "# YCbCr"
   ]
  },
  {
   "cell_type": "code",
   "execution_count": 3,
   "metadata": {},
   "outputs": [],
   "source": [
    "# Pretvoriti sliku u YCbCr kolor sistem i prikazati je\n",
    "# (hint) YCbCr sistem koristi float vrednosti, da bi mogao da se prikaze potrebno je prebaciti ih u int"
   ]
  },
  {
   "cell_type": "code",
   "execution_count": null,
   "metadata": {},
   "outputs": [],
   "source": [
    "# Prikazati pojedinacne slojeve\n",
    "\n",
    "fig, ax = subplots(2, 2, figsize=(32,22), dpi=40)\n",
    "tight_layout()\n",
    "\n",
    "ax[0,0].imshow(            )\n",
    "ax[0,0].set_title('RGB', fontsize=40)\n",
    "\n",
    "ax[0,1].imshow(            , cmap='jet') \n",
    "ax[0,1].set_title('Y', fontsize=40)\n",
    "\n",
    "ax[1,0].imshow(            , cmap='jet')\n",
    "ax[1,0].set_title('Cb', fontsize=40)\n",
    "\n",
    "ax[1,1].imshow(            , cmap='jet')\n",
    "ax[1,1].set_title('Cr', fontsize=40)"
   ]
  },
  {
   "cell_type": "markdown",
   "metadata": {},
   "source": [
    "# HSV"
   ]
  },
  {
   "cell_type": "code",
   "execution_count": 4,
   "metadata": {},
   "outputs": [],
   "source": [
    "# Konvertovati sliku u HSV kolor sistem i prikazati je"
   ]
  },
  {
   "cell_type": "code",
   "execution_count": null,
   "metadata": {},
   "outputs": [],
   "source": [
    "# Prikazati pojedinacne slojeve\n",
    "\n",
    "fig, ax = subplots(2, 2, figsize=(32,22), dpi=40)\n",
    "tight_layout()\n",
    "\n",
    "ax[0,0].imshow(            )\n",
    "ax[0,0].set_title('RGB', fontsize=40)\n",
    "\n",
    "ax[0,1].imshow(            , cmap='jet') \n",
    "ax[0,1].set_title('Y', fontsize=40)\n",
    "\n",
    "ax[1,0].imshow(            , cmap='jet')\n",
    "ax[1,0].set_title('Cb', fontsize=40)\n",
    "\n",
    "ax[1,1].imshow(            , cmap='jet')\n",
    "ax[1,1].set_title('Cr', fontsize=40)"
   ]
  },
  {
   "cell_type": "markdown",
   "metadata": {},
   "source": [
    "## HSV shift"
   ]
  },
  {
   "cell_type": "code",
   "execution_count": 10,
   "metadata": {},
   "outputs": [],
   "source": [
    "# Pomeriti sve boje na slici za 0.2 u jednu stranu"
   ]
  },
  {
   "cell_type": "markdown",
   "metadata": {},
   "source": [
    "## Segmentacija pomocu boje - HSV"
   ]
  },
  {
   "cell_type": "code",
   "execution_count": 5,
   "metadata": {},
   "outputs": [],
   "source": [
    "# Kreirati funkciju koja segmentira sliku na osnovu zadatih parametara slojeva HSV sistema\n",
    "def create_mask(image, image_hsv, hue_low=0, hue_high=1, hue_and_or=1, sat_low=0, sat_high=1, value_low=0, value_high=1):\n",
    "    \n",
    "    if (hue_and_or):\n",
    "        \n",
    "    else:\n",
    "        \n",
    "    \n",
    "    image_seg = np.copy(image)\n",
    "    image_seg[mask] = 0\n",
    "    figure(figsize=(20,20), dpi=40)\n",
    "    imshow(image_seg)\n",
    "    return"
   ]
  },
  {
   "cell_type": "code",
   "execution_count": null,
   "metadata": {},
   "outputs": [],
   "source": [
    "image = io.imread('data/parrots.jpg')\n",
    "figure, imshow(image)\n",
    "image_hsv = skimage.color.rgb2hsv(image)\n",
    "# crvena boja ima vrednosti hue oko 0 tj 360\n",
    "\n",
    "interact(create_mask, image=fixed(image), image_hsv=fixed(image_hsv), hue_low=(0,1,0.05), hue_high=(0,1,0.05), hue_and_or=(0,1,1), sat_low=(0,1,0.05), sat_high=(0,1,0.05), value_low=(0,1,0.05), value_high=(0,1,0.05))"
   ]
  },
  {
   "cell_type": "code",
   "execution_count": null,
   "metadata": {},
   "outputs": [],
   "source": []
  }
 ],
 "metadata": {
  "kernelspec": {
   "display_name": "Python 3 (ipykernel)",
   "language": "python",
   "name": "python3"
  },
  "language_info": {
   "codemirror_mode": {
    "name": "ipython",
    "version": 3
   },
   "file_extension": ".py",
   "mimetype": "text/x-python",
   "name": "python",
   "nbconvert_exporter": "python",
   "pygments_lexer": "ipython3",
   "version": "3.11.1"
  }
 },
 "nbformat": 4,
 "nbformat_minor": 4
}
